{
  "nbformat": 4,
  "nbformat_minor": 0,
  "metadata": {
    "colab": {
      "name": "Wine_dataset.ipynb",
      "private_outputs": true,
      "provenance": [],
      "authorship_tag": "ABX9TyPvwx51k9GPNr2LoiRVzU5/",
      "include_colab_link": true
    },
    "kernelspec": {
      "name": "python3",
      "display_name": "Python 3"
    },
    "language_info": {
      "name": "python"
    }
  },
  "cells": [
    {
      "cell_type": "markdown",
      "metadata": {
        "id": "view-in-github",
        "colab_type": "text"
      },
      "source": [
        "<a href=\"https://colab.research.google.com/github/alexliqu09/wine-ML-classification/blob/main/Wine_dataset.ipynb\" target=\"_parent\"><img src=\"https://colab.research.google.com/assets/colab-badge.svg\" alt=\"Open In Colab\"/></a>"
      ]
    },
    {
      "cell_type": "code",
      "execution_count": null,
      "metadata": {
        "id": "7Xjyofyr8VxS"
      },
      "outputs": [],
      "source": [
        "import pandas as pd\n",
        "import numpy as np\n",
        "import matplotlib.pyplot as plt\n",
        "import pprint\n",
        "import seaborn as sns\n",
        "from sklearn.datasets import load_wine\n",
        "from sklearn.preprocessing import Normalizer\n",
        "from sklearn.preprocessing import PowerTransformer\n",
        "from sklearn.model_selection import train_test_split\n",
        "from sklearn.model_selection import KFold\n",
        "from sklearn.model_selection import cross_val_score\n",
        "from sklearn.metrics import classification_report\n",
        "from sklearn.metrics import confusion_matrix\n",
        "from sklearn.metrics import accuracy_score\n",
        "from sklearn.linear_model import LogisticRegression\n",
        "from sklearn.tree import DecisionTreeClassifier\n",
        "from sklearn.neighbors import KNeighborsClassifier\n",
        "from sklearn.discriminant_analysis import LinearDiscriminantAnalysis\n",
        "from sklearn.naive_bayes import GaussianNB\n",
        "from sklearn.svm import SVC\n",
        "import warnings\n",
        "warnings.filterwarnings('ignore')"
      ]
    },
    {
      "cell_type": "markdown",
      "source": [
        "#**Cargar el dataset**"
      ],
      "metadata": {
        "id": "djrvFunJU_0D"
      }
    },
    {
      "cell_type": "code",
      "source": [
        "wine_dataset = load_wine()\n",
        "train= np.append(wine_dataset['data'], np.array([wine_dataset['target']]).T, axis=1)\n",
        "wine_dataset['feature_names'] = np.append(wine_dataset['feature_names'], 'target')"
      ],
      "metadata": {
        "id": "Zug87tdzJdNw"
      },
      "execution_count": null,
      "outputs": []
    },
    {
      "cell_type": "code",
      "source": [
        "pd_wine_dataset = pd.DataFrame(train, columns=wine_dataset['feature_names']).sample(frac=1).reset_index(drop=True)"
      ],
      "metadata": {
        "id": "bZRGyRuZJNKF"
      },
      "execution_count": null,
      "outputs": []
    },
    {
      "cell_type": "markdown",
      "source": [
        "#Estadistica Descriptiva\n"
      ],
      "metadata": {
        "id": "0tDkm_32VEJj"
      }
    },
    {
      "cell_type": "code",
      "source": [
        "print(f\"el tamaño del dataset es: {pd_wine_dataset.shape}\")"
      ],
      "metadata": {
        "id": "0I0QJgcoVMNy"
      },
      "execution_count": null,
      "outputs": []
    },
    {
      "cell_type": "code",
      "source": [
        "pd_wine_dataset.head()"
      ],
      "metadata": {
        "id": "v9vTvuP2QIUb"
      },
      "execution_count": null,
      "outputs": []
    },
    {
      "cell_type": "code",
      "source": [
        "pd_wine_dataset.describe() #aplicar alguna transformacion"
      ],
      "metadata": {
        "id": "h4MOSpG3VbZg"
      },
      "execution_count": null,
      "outputs": []
    },
    {
      "cell_type": "code",
      "source": [
        "pd_wine_dataset.groupby('target').size()"
      ],
      "metadata": {
        "id": "lt2sXrVIWiG9"
      },
      "execution_count": null,
      "outputs": []
    },
    {
      "cell_type": "markdown",
      "source": [
        "#Visualización"
      ],
      "metadata": {
        "id": "Z0AnF90HXK4z"
      }
    },
    {
      "cell_type": "markdown",
      "source": [
        "##Univariable"
      ],
      "metadata": {
        "id": "HtfZ5hpraKhi"
      }
    },
    {
      "cell_type": "code",
      "source": [
        "f, axes = plt.subplots(2, 4, figsize=(10, 7))\n",
        "sns.boxplot(pd_wine_dataset[\"alcohol\"], ax=axes[0, 0])\n",
        "sns.boxplot(pd_wine_dataset[\"malic_acid\"], ax=axes[0, 1])\n",
        "sns.boxplot(pd_wine_dataset[\"ash\"], ax=axes[0, 2])\n",
        "sns.boxplot(pd_wine_dataset[\"alcalinity_of_ash\"], ax=axes[0, 3])\n",
        "sns.boxplot(pd_wine_dataset[\"magnesium\"], ax=axes[1, 0])\n",
        "sns.boxplot(pd_wine_dataset[\"total_phenols\"], ax=axes[1, 1])\n",
        "sns.boxplot(pd_wine_dataset[\"flavanoids\"], ax=axes[1, 2])\n",
        "sns.boxplot(pd_wine_dataset[\"proanthocyanins\"], ax=axes[1, 3])"
      ],
      "metadata": {
        "id": "BM_yjP-OXBKz"
      },
      "execution_count": null,
      "outputs": []
    },
    {
      "cell_type": "code",
      "source": [
        "f, axes = plt.subplots(1, 3, figsize=(10, 7))\n",
        "sns.boxplot(pd_wine_dataset[\"color_intensity\"], ax=axes[0])\n",
        "sns.boxplot(pd_wine_dataset[\"od280/od315_of_diluted_wines\"], ax=axes[1])\n",
        "sns.boxplot(pd_wine_dataset[\"proline\"], ax=axes[2])"
      ],
      "metadata": {
        "id": "MAsE1dlfZPf9"
      },
      "execution_count": null,
      "outputs": []
    },
    {
      "cell_type": "code",
      "source": [
        "fig = plt.figure(figsize = (10,15))\n",
        "ax = fig.gca()\n",
        "pd_wine_dataset.plot(ax=ax, kind='box', subplots=True, layout=(7,2), sharex=False, sharey=False)\n",
        "plt.show()"
      ],
      "metadata": {
        "id": "Nbjw3o_XaW9a"
      },
      "execution_count": null,
      "outputs": []
    },
    {
      "cell_type": "code",
      "source": [
        "f, axes = plt.subplots(2, 4, figsize=(10, 7))\n",
        "sns.distplot(pd_wine_dataset[\"alcohol\"], ax=axes[0, 0])\n",
        "sns.distplot(pd_wine_dataset[\"malic_acid\"], ax=axes[0, 1])\n",
        "sns.distplot(pd_wine_dataset[\"ash\"], ax=axes[0, 2])\n",
        "sns.distplot(pd_wine_dataset[\"alcalinity_of_ash\"], ax=axes[0, 3])\n",
        "sns.distplot(pd_wine_dataset[\"magnesium\"], ax=axes[1, 0])\n",
        "sns.distplot(pd_wine_dataset[\"total_phenols\"], ax=axes[1, 1])\n",
        "sns.distplot(pd_wine_dataset[\"flavanoids\"], ax=axes[1, 2])\n",
        "sns.distplot(pd_wine_dataset[\"proanthocyanins\"], ax=axes[1, 3])"
      ],
      "metadata": {
        "id": "wvmtsVbocbOD"
      },
      "execution_count": null,
      "outputs": []
    },
    {
      "cell_type": "code",
      "source": [
        "fig = plt.figure(figsize = (10,10))\n",
        "ax = fig.gca()\n",
        "pd_wine_dataset.hist(ax=ax)\n",
        "plt.show()"
      ],
      "metadata": {
        "id": "tAL87gYacvb7"
      },
      "execution_count": null,
      "outputs": []
    },
    {
      "cell_type": "markdown",
      "source": [
        "##Multivariable"
      ],
      "metadata": {
        "id": "abCYm9ZyaPZp"
      }
    },
    {
      "cell_type": "code",
      "source": [
        "sns.pairplot(pd_wine_dataset, y_vars='target', aspect=1)"
      ],
      "metadata": {
        "id": "EUczG8ofdRAa"
      },
      "execution_count": null,
      "outputs": []
    },
    {
      "cell_type": "code",
      "source": [
        "wine_dataset['feature_names'][:-1]"
      ],
      "metadata": {
        "id": "3eCNy6wMgefn"
      },
      "execution_count": null,
      "outputs": []
    },
    {
      "cell_type": "code",
      "source": [
        "plt.rcParams[\"figure.figsize\"] = [12,8]\n",
        "pd.plotting.scatter_matrix(pd_wine_dataset[wine_dataset['feature_names'][:-1]])\n",
        "plt.show()"
      ],
      "metadata": {
        "id": "JxwffkjCf29_"
      },
      "execution_count": null,
      "outputs": []
    },
    {
      "cell_type": "markdown",
      "source": [
        "#Transformación"
      ],
      "metadata": {
        "id": "cNOMwn5Fk7AX"
      }
    },
    {
      "cell_type": "markdown",
      "source": [
        "##Normalización"
      ],
      "metadata": {
        "id": "wPc9CptYvXJB"
      }
    },
    {
      "cell_type": "code",
      "source": [
        "X = pd_wine_dataset[wine_dataset['feature_names'][:-1]]\n",
        "Y = pd_wine_dataset[wine_dataset['feature_names'][-1]]"
      ],
      "metadata": {
        "id": "WfNlPhuWtHz1"
      },
      "execution_count": null,
      "outputs": []
    },
    {
      "cell_type": "code",
      "source": [
        "scaler = Normalizer().fit(X)\n",
        "normalizer = scaler.transform(X)\n",
        "np.set_printoptions(precision=2)\n",
        "print(wine_dataset['feature_names'][:-1])\n",
        "print(normalizer)"
      ],
      "metadata": {
        "id": "m1iQmatVoAMy"
      },
      "execution_count": null,
      "outputs": []
    },
    {
      "cell_type": "code",
      "source": [
        "new_pd_wine_data =  pd.DataFrame(normalizer, columns=wine_dataset['feature_names'][:-1])\n",
        "new_pd_wine_data.head()"
      ],
      "metadata": {
        "id": "CQ_8zqmcuNDo"
      },
      "execution_count": null,
      "outputs": []
    },
    {
      "cell_type": "code",
      "source": [
        "fig = plt.figure(figsize = (10,10))\n",
        "ax = fig.gca()\n",
        "new_pd_wine_data.hist(ax=ax)\n",
        "plt.show()"
      ],
      "metadata": {
        "id": "Wm45eHisvKSF"
      },
      "execution_count": null,
      "outputs": []
    },
    {
      "cell_type": "markdown",
      "source": [
        "##BoxCox"
      ],
      "metadata": {
        "id": "-uKY_XtDx0Jp"
      }
    },
    {
      "cell_type": "code",
      "source": [
        "pp = pprint.PrettyPrinter(indent=1)\n",
        "pp.pprint(wine_dataset['feature_names'][:-1])"
      ],
      "metadata": {
        "id": "C2ltn-wQx7AA"
      },
      "execution_count": null,
      "outputs": []
    },
    {
      "cell_type": "code",
      "source": [
        "name_columns_features = wine_dataset['feature_names'][:-1]\n",
        "data = pd_wine_dataset[name_columns_features]\n",
        "data"
      ],
      "metadata": {
        "id": "vMq7cwDqzfZx"
      },
      "execution_count": null,
      "outputs": []
    },
    {
      "cell_type": "code",
      "source": [
        "pt = PowerTransformer(method='box-cox', standardize=True)\n",
        "skl_boxcox = pt.fit(data)\n",
        "skl_boxcox = pt.transform(data)"
      ],
      "metadata": {
        "id": "fEmDeMIsw4Oi"
      },
      "execution_count": null,
      "outputs": []
    },
    {
      "cell_type": "code",
      "source": [
        "new_pd_wine_features = pd.DataFrame(skl_boxcox, columns=name_columns_features)\n",
        "target = Y"
      ],
      "metadata": {
        "id": "_g0PBp0Hz8oS"
      },
      "execution_count": null,
      "outputs": []
    },
    {
      "cell_type": "code",
      "source": [
        "new_pd_wine_features.head()"
      ],
      "metadata": {
        "id": "xUd712D30YDr"
      },
      "execution_count": null,
      "outputs": []
    },
    {
      "cell_type": "code",
      "source": [
        "new_pd_wine_features.describe()"
      ],
      "metadata": {
        "id": "78p1bUpG0_B4"
      },
      "execution_count": null,
      "outputs": []
    },
    {
      "cell_type": "code",
      "source": [
        "fig = plt.figure(figsize = (10,10))\n",
        "ax = fig.gca()\n",
        "new_pd_wine_features.hist(ax=ax)\n",
        "plt.show()"
      ],
      "metadata": {
        "id": "nwv_fsR_0ypk"
      },
      "execution_count": null,
      "outputs": []
    },
    {
      "cell_type": "markdown",
      "source": [
        "#Fase de Modelado"
      ],
      "metadata": {
        "id": "gBQs0mYe1NvZ"
      }
    },
    {
      "cell_type": "code",
      "source": [
        "X = new_pd_wine_features[name_columns_features].to_numpy()\n",
        "validation_size = 0.20\n",
        "seed = 7\n",
        "X_train, X_validation, Y_train, Y_validation = train_test_split(X, target, test_size=validation_size, random_state=seed)"
      ],
      "metadata": {
        "id": "KZigJZMd1SDJ"
      },
      "execution_count": null,
      "outputs": []
    },
    {
      "cell_type": "code",
      "source": [
        "modelos = []\n",
        "modelos.append(('LoR', LogisticRegression()))\n",
        "modelos.append(('LDA', LinearDiscriminantAnalysis()))\n",
        "modelos.append(('K-NN', KNeighborsClassifier()))\n",
        "modelos.append(('CART', DecisionTreeClassifier()))\n",
        "modelos.append(('NB', GaussianNB()))\n",
        "modelos.append(('SVM', SVC()))\n",
        "\n",
        "results = []\n",
        "names = []\n",
        "seed=3\n",
        "\n",
        "for name, model in modelos:\n",
        "    kfold = KFold(n_splits=10, random_state=seed, shuffle=True)\n",
        "    cv_results = cross_val_score(model, X_train, Y_train, cv=kfold, scoring='accuracy')\n",
        "    results.append(cv_results)\n",
        "    names.append(name)\n",
        "    print(f\"{name}: {cv_results.mean()*100.0:,.2f}% ({cv_results.std()*100.0:,.2f}%)\")"
      ],
      "metadata": {
        "id": "vHXJMN2E2P3J"
      },
      "execution_count": null,
      "outputs": []
    },
    {
      "cell_type": "code",
      "source": [
        "knn = KNeighborsClassifier()\n",
        "knn.fit(X_train, Y_train)\n",
        "predictions = knn.predict(X_validation)"
      ],
      "metadata": {
        "id": "J43Fw-hg3eyf"
      },
      "execution_count": null,
      "outputs": []
    },
    {
      "cell_type": "code",
      "source": [
        "print(f'KNN {accuracy_score(Y_validation, predictions)*100.0:,.2f}%')\n",
        "print(confusion_matrix(Y_validation, predictions))\n",
        "print(classification_report(Y_validation, predictions))"
      ],
      "metadata": {
        "id": "DFk0ZRwq4y1t"
      },
      "execution_count": null,
      "outputs": []
    },
    {
      "cell_type": "code",
      "source": [
        "svm = SVC()\n",
        "svm.fit(X_train, Y_train)\n",
        "predictions = svm.predict(X_validation)"
      ],
      "metadata": {
        "id": "cZnBGm-c5-Mg"
      },
      "execution_count": null,
      "outputs": []
    },
    {
      "cell_type": "code",
      "source": [
        "print(f'SVM {accuracy_score(Y_validation, predictions)*100.0:,.2f}%')\n",
        "print(confusion_matrix(Y_validation, predictions))\n",
        "print(classification_report(Y_validation, predictions))"
      ],
      "metadata": {
        "id": "eEd4Npi-6IRr"
      },
      "execution_count": null,
      "outputs": []
    }
  ]
}